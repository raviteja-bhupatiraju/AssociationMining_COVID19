{
 "cells": [
  {
   "cell_type": "code",
   "execution_count": 1,
   "id": "667010bf-f3b6-4c7b-807d-0ac034b94cef",
   "metadata": {},
   "outputs": [],
   "source": [
    "import pandas as pd\n",
    "import numpy as np\n",
    "from mlxtend.preprocessing import TransactionEncoder\n",
    "from mlxtend.frequent_patterns import fpgrowth, association_rules"
   ]
  },
  {
   "cell_type": "code",
   "execution_count": 2,
   "id": "7a3e6c1b-a023-4ff8-b5f3-70d8bfaa3127",
   "metadata": {},
   "outputs": [],
   "source": [
    "df = pd.read_csv('TransactionalData.csv')\n",
    "df.drop(columns=['state','month','week'], inplace=True)\n",
    "df['MaskUsage'] = 'MU: '+df['MaskUsage']\n",
    "df['SocialDistancing'] = 'SD: '+df['SocialDistancing']\n",
    "df['mobilityLevels'] = 'ML: '+df['mobilityLevels']\n",
    "df['PopulationDensity'] = 'PD: '+df['PopulationDensity'].astype(str)\n",
    "df['casesPC_Levels'] = 'CPC: '+df['casesPC_Levels']\n",
    "df['CurrentIncidencePhase'] = 'CP: '+df['CurrentIncidencePhase']\n",
    "df['FutureIncidencePhase'] = 'FP: '+df['FutureIncidencePhase']"
   ]
  },
  {
   "cell_type": "code",
   "execution_count": 3,
   "id": "17a59475-580f-403a-a746-ab9cf8e722b2",
   "metadata": {},
   "outputs": [],
   "source": [
    "tuples = df.values.tolist()\n",
    "te = TransactionEncoder()\n",
    "te_ary = te.fit(tuples).transform(tuples)\n",
    "tdf = pd.DataFrame(te_ary, columns=te.columns_)\n",
    "frequent_itemsets = fpgrowth(tdf, min_support=0.00001, use_colnames=True)\n",
    "assoc_rules = association_rules(frequent_itemsets, metric='confidence', min_threshold=0.005)\n",
    "assoc_rules['antecedents'] = assoc_rules['antecedents'].apply(lambda x:', '.join(list(x))).astype('unicode')\n",
    "assoc_rules['consequents'] = assoc_rules['consequents'].apply(lambda x:', '.join(list(x))).astype('unicode')\n",
    "assoc_rules['chi_squared'] = 1050*(assoc_rules['lift']-1)*(assoc_rules['lift']-1)*(assoc_rules['support']*assoc_rules['confidence']/((assoc_rules['confidence']-assoc_rules['support'])*(assoc_rules['lift']-assoc_rules['confidence'])))"
   ]
  },
  {
   "cell_type": "code",
   "execution_count": 4,
   "id": "2ba78850-e6a0-4445-8cf9-2b2cb4c6ffd1",
   "metadata": {},
   "outputs": [],
   "source": [
    "targeted_consequents = ['FP: Phase 2', 'FP: Phase 3', 'FP: Phase 4', 'FP: Phase 5','FP: Phase 1']\n",
    "assoc_rules_filtered = assoc_rules[assoc_rules['consequents'].isin(targeted_consequents)]"
   ]
  },
  {
   "cell_type": "code",
   "execution_count": 5,
   "id": "67949675-157c-4947-91d9-c7e605dfea0e",
   "metadata": {},
   "outputs": [],
   "source": [
    "ndf={}\n",
    "k = 0\n",
    "for index,row in assoc_rules_filtered.iterrows():\n",
    "    nrow = {}\n",
    "    for ant_item in str(row['antecedents']).split(','):\n",
    "        strngs = ant_item.split(':')\n",
    "        nrow[strngs[0].strip()] = strngs[1].strip()\n",
    "    nrow[row['consequents'].split(':')[0].strip()] = row['consequents'].split(':')[1].strip()\n",
    "    nrow['support'] = row['support']\n",
    "    nrow['confidence'] = row['confidence']\n",
    "    nrow['lift'] = row['lift']\n",
    "    nrow['chi_squared'] = row['chi_squared']\n",
    "    ndf[k] = nrow\n",
    "    k += 1"
   ]
  },
  {
   "cell_type": "code",
   "execution_count": 6,
   "id": "fa30e2f2-2b68-4b36-8060-abedafdd9bb9",
   "metadata": {},
   "outputs": [],
   "source": [
    "ndfDF = pd.DataFrame.from_dict(ndf, 'index')\n",
    "ndfDF.rename(columns={'PD':'Population Density',\n",
    "                      'FP':'Future Phase',\n",
    "                      'CP':'Current Phase','MU':'Mask Mandate','SD':'Social Distancing','CPC':'Cases Per Capita','ML':'Mobility Level'}, inplace=True)\n",
    "ndfDF = ndfDF[['Mask Mandate','Social Distancing','Mobility Level','Population Density','Cases Per Capita','Current Phase','Future Phase','support','confidence','lift','chi_squared']]\n",
    "ndfDF.to_csv('Final_Rules.csv', index=False)"
   ]
  }
 ],
 "metadata": {
  "kernelspec": {
   "display_name": "Python 3",
   "language": "python",
   "name": "python3"
  },
  "language_info": {
   "codemirror_mode": {
    "name": "ipython",
    "version": 3
   },
   "file_extension": ".py",
   "mimetype": "text/x-python",
   "name": "python",
   "nbconvert_exporter": "python",
   "pygments_lexer": "ipython3",
   "version": "3.9.5"
  }
 },
 "nbformat": 4,
 "nbformat_minor": 5
}
